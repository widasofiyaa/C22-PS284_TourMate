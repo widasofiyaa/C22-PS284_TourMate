{
  "nbformat": 4,
  "nbformat_minor": 0,
  "metadata": {
    "colab": {
      "name": "Bali_Recommeder_System.ipynb",
      "provenance": []
    },
    "kernelspec": {
      "name": "python3",
      "display_name": "Python 3"
    },
    "language_info": {
      "name": "python"
    }
  },
  "cells": [
    {
      "cell_type": "code",
      "source": [
        "import pandas as pd\n",
        "import numpy as np\n",
        "from typing import List, Dict\n",
        "import tensorflow as tf\n",
        "from Sastrawi.StopWordRemover.StopWordRemoverFactory import StopWordRemoverFactory"
      ],
      "metadata": {
        "id": "0BGENHTANHMh"
      },
      "execution_count": 224,
      "outputs": []
    },
    {
      "cell_type": "code",
      "source": [
        "from sklearn.metrics.pairwise import cosine_similarity"
      ],
      "metadata": {
        "id": "q5-yAA0MUMqi"
      },
      "execution_count": 225,
      "outputs": []
    },
    {
      "cell_type": "code",
      "source": [
        "!wget -qN https://widasofiyaa.github.io/wids-portfolio/Dataset/tourism_with_id.xlsx"
      ],
      "metadata": {
        "id": "9ciQstudjC4G"
      },
      "execution_count": 226,
      "outputs": []
    },
    {
      "cell_type": "code",
      "execution_count": 227,
      "metadata": {
        "id": "R1QXZAkaI1fL"
      },
      "outputs": [],
      "source": [
        "places = pd.read_excel('tourism_with_id.xlsx')"
      ]
    },
    {
      "cell_type": "code",
      "source": [
        "places = places.sample(n=113).reset_index(drop=True)"
      ],
      "metadata": {
        "id": "vvkzffEQNAsz"
      },
      "execution_count": 228,
      "outputs": []
    },
    {
      "cell_type": "code",
      "source": [
        "places.head(10)"
      ],
      "metadata": {
        "colab": {
          "base_uri": "https://localhost:8080/",
          "height": 363
        },
        "id": "0sRy_EgpkLxh",
        "outputId": "cb9fc12e-1557-44a9-ebd2-f0bbead17496"
      },
      "execution_count": 229,
      "outputs": [
        {
          "output_type": "execute_result",
          "data": {
            "text/plain": [
              "   Place_Id            Place_Name  \\\n",
              "0       102  Pura Taman Saraswati   \n",
              "1       105           Danau Batur   \n",
              "2        37    Barong Tanah Kilap   \n",
              "3        24           Manta Point   \n",
              "4        75          Museum Subak   \n",
              "5        12        Taman Sukasada   \n",
              "6        87            Amed Beach   \n",
              "7        98         Museum Blanco   \n",
              "8        96   Pasar Seni Sukawati   \n",
              "9        95     Taman Kertha Gosa   \n",
              "\n",
              "                                         Description Category        City  \\\n",
              "0  Pura Taman Saraswati Ubud adalah Pura Hindu ya...   Budaya     Gianyar   \n",
              "1  Danau Batur merupakan danau kawah yang berloka...     Alam      Bangli   \n",
              "2  Grup Sari Wisata Budaya merupakan salah satu g...   Budaya      Badung   \n",
              "3  Manta point adalah salah satu tempat menyelam ...     Hobi    Denpasar   \n",
              "4  Museum Subak adalah museum yang menyajikan inf...   Budaya     Tabanan   \n",
              "5  Taman Sukasada, adalah sebuat taman di banjar ...     Alam  Karangasem   \n",
              "6  Pemandangan pantai di Amed sangat fantastis, t...     Alam  Karangasem   \n",
              "7  Museum lukisannya ada di objek wisata Ubud Bal...   Budaya     Gianyar   \n",
              "8  Pasar tradisional Sukawati tempat yang sangat ...   Budaya     Gianyar   \n",
              "9  Hal utama yang menjadi daya tarik tempat wisat...   Budaya   Klungkung   \n",
              "\n",
              "    Price  Rating                                Cordinate       Lat  \\\n",
              "0   10000     4.4  {'lat': -8.5059569, 'lng': 115.2614926} -8.505957   \n",
              "1       0     4.6   {'lat': -8.2548217, 'lng': 115.332523} -8.254822   \n",
              "2  100000     4.6  {'lat': -8.7188273, 'lng': 115.1902701} -8.718827   \n",
              "3  150000     4.5   {'lat': -8.7939035, 'lng': 115.527015} -8.793904   \n",
              "4   10000     4.2  {'lat': -8.5453051, 'lng': 115.1380888} -8.545305   \n",
              "5   10000     4.6  {'lat': -8.4647081, 'lng': 115.6301561} -8.464708   \n",
              "6       0     4.6  {'lat': -8.3353526, 'lng': 115.6161036} -8.335353   \n",
              "7   35000     4.3  {'lat': -8.5055928, 'lng': 115.2542561} -8.505593   \n",
              "8       0     4.3  {'lat': -8.5964879, 'lng': 115.2651387} -8.596488   \n",
              "9   15000     4.5  {'lat': -8.5356552, 'lng': 115.3854711} -8.535655   \n",
              "\n",
              "         Long  \n",
              "0  115.261493  \n",
              "1  115.332523  \n",
              "2  115.190270  \n",
              "3  115.527015  \n",
              "4  115.138089  \n",
              "5  115.630156  \n",
              "6  115.616104  \n",
              "7  115.254256  \n",
              "8  115.265139  \n",
              "9  115.385471  "
            ],
            "text/html": [
              "\n",
              "  <div id=\"df-79a69f7f-a955-45c1-bbae-51d2b04f5307\">\n",
              "    <div class=\"colab-df-container\">\n",
              "      <div>\n",
              "<style scoped>\n",
              "    .dataframe tbody tr th:only-of-type {\n",
              "        vertical-align: middle;\n",
              "    }\n",
              "\n",
              "    .dataframe tbody tr th {\n",
              "        vertical-align: top;\n",
              "    }\n",
              "\n",
              "    .dataframe thead th {\n",
              "        text-align: right;\n",
              "    }\n",
              "</style>\n",
              "<table border=\"1\" class=\"dataframe\">\n",
              "  <thead>\n",
              "    <tr style=\"text-align: right;\">\n",
              "      <th></th>\n",
              "      <th>Place_Id</th>\n",
              "      <th>Place_Name</th>\n",
              "      <th>Description</th>\n",
              "      <th>Category</th>\n",
              "      <th>City</th>\n",
              "      <th>Price</th>\n",
              "      <th>Rating</th>\n",
              "      <th>Cordinate</th>\n",
              "      <th>Lat</th>\n",
              "      <th>Long</th>\n",
              "    </tr>\n",
              "  </thead>\n",
              "  <tbody>\n",
              "    <tr>\n",
              "      <th>0</th>\n",
              "      <td>102</td>\n",
              "      <td>Pura Taman Saraswati</td>\n",
              "      <td>Pura Taman Saraswati Ubud adalah Pura Hindu ya...</td>\n",
              "      <td>Budaya</td>\n",
              "      <td>Gianyar</td>\n",
              "      <td>10000</td>\n",
              "      <td>4.4</td>\n",
              "      <td>{'lat': -8.5059569, 'lng': 115.2614926}</td>\n",
              "      <td>-8.505957</td>\n",
              "      <td>115.261493</td>\n",
              "    </tr>\n",
              "    <tr>\n",
              "      <th>1</th>\n",
              "      <td>105</td>\n",
              "      <td>Danau Batur</td>\n",
              "      <td>Danau Batur merupakan danau kawah yang berloka...</td>\n",
              "      <td>Alam</td>\n",
              "      <td>Bangli</td>\n",
              "      <td>0</td>\n",
              "      <td>4.6</td>\n",
              "      <td>{'lat': -8.2548217, 'lng': 115.332523}</td>\n",
              "      <td>-8.254822</td>\n",
              "      <td>115.332523</td>\n",
              "    </tr>\n",
              "    <tr>\n",
              "      <th>2</th>\n",
              "      <td>37</td>\n",
              "      <td>Barong Tanah Kilap</td>\n",
              "      <td>Grup Sari Wisata Budaya merupakan salah satu g...</td>\n",
              "      <td>Budaya</td>\n",
              "      <td>Badung</td>\n",
              "      <td>100000</td>\n",
              "      <td>4.6</td>\n",
              "      <td>{'lat': -8.7188273, 'lng': 115.1902701}</td>\n",
              "      <td>-8.718827</td>\n",
              "      <td>115.190270</td>\n",
              "    </tr>\n",
              "    <tr>\n",
              "      <th>3</th>\n",
              "      <td>24</td>\n",
              "      <td>Manta Point</td>\n",
              "      <td>Manta point adalah salah satu tempat menyelam ...</td>\n",
              "      <td>Hobi</td>\n",
              "      <td>Denpasar</td>\n",
              "      <td>150000</td>\n",
              "      <td>4.5</td>\n",
              "      <td>{'lat': -8.7939035, 'lng': 115.527015}</td>\n",
              "      <td>-8.793904</td>\n",
              "      <td>115.527015</td>\n",
              "    </tr>\n",
              "    <tr>\n",
              "      <th>4</th>\n",
              "      <td>75</td>\n",
              "      <td>Museum Subak</td>\n",
              "      <td>Museum Subak adalah museum yang menyajikan inf...</td>\n",
              "      <td>Budaya</td>\n",
              "      <td>Tabanan</td>\n",
              "      <td>10000</td>\n",
              "      <td>4.2</td>\n",
              "      <td>{'lat': -8.5453051, 'lng': 115.1380888}</td>\n",
              "      <td>-8.545305</td>\n",
              "      <td>115.138089</td>\n",
              "    </tr>\n",
              "    <tr>\n",
              "      <th>5</th>\n",
              "      <td>12</td>\n",
              "      <td>Taman Sukasada</td>\n",
              "      <td>Taman Sukasada, adalah sebuat taman di banjar ...</td>\n",
              "      <td>Alam</td>\n",
              "      <td>Karangasem</td>\n",
              "      <td>10000</td>\n",
              "      <td>4.6</td>\n",
              "      <td>{'lat': -8.4647081, 'lng': 115.6301561}</td>\n",
              "      <td>-8.464708</td>\n",
              "      <td>115.630156</td>\n",
              "    </tr>\n",
              "    <tr>\n",
              "      <th>6</th>\n",
              "      <td>87</td>\n",
              "      <td>Amed Beach</td>\n",
              "      <td>Pemandangan pantai di Amed sangat fantastis, t...</td>\n",
              "      <td>Alam</td>\n",
              "      <td>Karangasem</td>\n",
              "      <td>0</td>\n",
              "      <td>4.6</td>\n",
              "      <td>{'lat': -8.3353526, 'lng': 115.6161036}</td>\n",
              "      <td>-8.335353</td>\n",
              "      <td>115.616104</td>\n",
              "    </tr>\n",
              "    <tr>\n",
              "      <th>7</th>\n",
              "      <td>98</td>\n",
              "      <td>Museum Blanco</td>\n",
              "      <td>Museum lukisannya ada di objek wisata Ubud Bal...</td>\n",
              "      <td>Budaya</td>\n",
              "      <td>Gianyar</td>\n",
              "      <td>35000</td>\n",
              "      <td>4.3</td>\n",
              "      <td>{'lat': -8.5055928, 'lng': 115.2542561}</td>\n",
              "      <td>-8.505593</td>\n",
              "      <td>115.254256</td>\n",
              "    </tr>\n",
              "    <tr>\n",
              "      <th>8</th>\n",
              "      <td>96</td>\n",
              "      <td>Pasar Seni Sukawati</td>\n",
              "      <td>Pasar tradisional Sukawati tempat yang sangat ...</td>\n",
              "      <td>Budaya</td>\n",
              "      <td>Gianyar</td>\n",
              "      <td>0</td>\n",
              "      <td>4.3</td>\n",
              "      <td>{'lat': -8.5964879, 'lng': 115.2651387}</td>\n",
              "      <td>-8.596488</td>\n",
              "      <td>115.265139</td>\n",
              "    </tr>\n",
              "    <tr>\n",
              "      <th>9</th>\n",
              "      <td>95</td>\n",
              "      <td>Taman Kertha Gosa</td>\n",
              "      <td>Hal utama yang menjadi daya tarik tempat wisat...</td>\n",
              "      <td>Budaya</td>\n",
              "      <td>Klungkung</td>\n",
              "      <td>15000</td>\n",
              "      <td>4.5</td>\n",
              "      <td>{'lat': -8.5356552, 'lng': 115.3854711}</td>\n",
              "      <td>-8.535655</td>\n",
              "      <td>115.385471</td>\n",
              "    </tr>\n",
              "  </tbody>\n",
              "</table>\n",
              "</div>\n",
              "      <button class=\"colab-df-convert\" onclick=\"convertToInteractive('df-79a69f7f-a955-45c1-bbae-51d2b04f5307')\"\n",
              "              title=\"Convert this dataframe to an interactive table.\"\n",
              "              style=\"display:none;\">\n",
              "        \n",
              "  <svg xmlns=\"http://www.w3.org/2000/svg\" height=\"24px\"viewBox=\"0 0 24 24\"\n",
              "       width=\"24px\">\n",
              "    <path d=\"M0 0h24v24H0V0z\" fill=\"none\"/>\n",
              "    <path d=\"M18.56 5.44l.94 2.06.94-2.06 2.06-.94-2.06-.94-.94-2.06-.94 2.06-2.06.94zm-11 1L8.5 8.5l.94-2.06 2.06-.94-2.06-.94L8.5 2.5l-.94 2.06-2.06.94zm10 10l.94 2.06.94-2.06 2.06-.94-2.06-.94-.94-2.06-.94 2.06-2.06.94z\"/><path d=\"M17.41 7.96l-1.37-1.37c-.4-.4-.92-.59-1.43-.59-.52 0-1.04.2-1.43.59L10.3 9.45l-7.72 7.72c-.78.78-.78 2.05 0 2.83L4 21.41c.39.39.9.59 1.41.59.51 0 1.02-.2 1.41-.59l7.78-7.78 2.81-2.81c.8-.78.8-2.07 0-2.86zM5.41 20L4 18.59l7.72-7.72 1.47 1.35L5.41 20z\"/>\n",
              "  </svg>\n",
              "      </button>\n",
              "      \n",
              "  <style>\n",
              "    .colab-df-container {\n",
              "      display:flex;\n",
              "      flex-wrap:wrap;\n",
              "      gap: 12px;\n",
              "    }\n",
              "\n",
              "    .colab-df-convert {\n",
              "      background-color: #E8F0FE;\n",
              "      border: none;\n",
              "      border-radius: 50%;\n",
              "      cursor: pointer;\n",
              "      display: none;\n",
              "      fill: #1967D2;\n",
              "      height: 32px;\n",
              "      padding: 0 0 0 0;\n",
              "      width: 32px;\n",
              "    }\n",
              "\n",
              "    .colab-df-convert:hover {\n",
              "      background-color: #E2EBFA;\n",
              "      box-shadow: 0px 1px 2px rgba(60, 64, 67, 0.3), 0px 1px 3px 1px rgba(60, 64, 67, 0.15);\n",
              "      fill: #174EA6;\n",
              "    }\n",
              "\n",
              "    [theme=dark] .colab-df-convert {\n",
              "      background-color: #3B4455;\n",
              "      fill: #D2E3FC;\n",
              "    }\n",
              "\n",
              "    [theme=dark] .colab-df-convert:hover {\n",
              "      background-color: #434B5C;\n",
              "      box-shadow: 0px 1px 3px 1px rgba(0, 0, 0, 0.15);\n",
              "      filter: drop-shadow(0px 1px 2px rgba(0, 0, 0, 0.3));\n",
              "      fill: #FFFFFF;\n",
              "    }\n",
              "  </style>\n",
              "\n",
              "      <script>\n",
              "        const buttonEl =\n",
              "          document.querySelector('#df-79a69f7f-a955-45c1-bbae-51d2b04f5307 button.colab-df-convert');\n",
              "        buttonEl.style.display =\n",
              "          google.colab.kernel.accessAllowed ? 'block' : 'none';\n",
              "\n",
              "        async function convertToInteractive(key) {\n",
              "          const element = document.querySelector('#df-79a69f7f-a955-45c1-bbae-51d2b04f5307');\n",
              "          const dataTable =\n",
              "            await google.colab.kernel.invokeFunction('convertToInteractive',\n",
              "                                                     [key], {});\n",
              "          if (!dataTable) return;\n",
              "\n",
              "          const docLinkHtml = 'Like what you see? Visit the ' +\n",
              "            '<a target=\"_blank\" href=https://colab.research.google.com/notebooks/data_table.ipynb>data table notebook</a>'\n",
              "            + ' to learn more about interactive tables.';\n",
              "          element.innerHTML = '';\n",
              "          dataTable['output_type'] = 'display_data';\n",
              "          await google.colab.output.renderOutput(dataTable, element);\n",
              "          const docLink = document.createElement('div');\n",
              "          docLink.innerHTML = docLinkHtml;\n",
              "          element.appendChild(docLink);\n",
              "        }\n",
              "      </script>\n",
              "    </div>\n",
              "  </div>\n",
              "  "
            ]
          },
          "metadata": {},
          "execution_count": 229
        }
      ]
    },
    {
      "cell_type": "code",
      "source": [
        "places['Description'] = places['Description'].str.replace(r'\\n', '')"
      ],
      "metadata": {
        "colab": {
          "base_uri": "https://localhost:8080/"
        },
        "id": "qpyYnA3HZY0N",
        "outputId": "ae6a5fa5-abdb-4834-8be4-7cb1bdd0e3ee"
      },
      "execution_count": 230,
      "outputs": [
        {
          "output_type": "stream",
          "name": "stderr",
          "text": [
            "/usr/local/lib/python3.7/dist-packages/ipykernel_launcher.py:1: FutureWarning: The default value of regex will change from True to False in a future version.\n",
            "  \"\"\"Entry point for launching an IPython kernel.\n"
          ]
        }
      ]
    },
    {
      "cell_type": "code",
      "source": [
        "factory = StopWordRemoverFactory()\n",
        "stopword = factory.create_stop_word_remover()"
      ],
      "metadata": {
        "id": "LrqVmrmHx3jk"
      },
      "execution_count": 233,
      "outputs": []
    },
    {
      "cell_type": "code",
      "source": [
        "for i, Description in enumerate (places['Description']):\n",
        "    stop = stopword.remove(Description)\n",
        "    print(i,stop + '\\n')"
      ],
      "metadata": {
        "colab": {
          "base_uri": "https://localhost:8080/"
        },
        "id": "lCzL0H1FyA2M",
        "outputId": "a9343d3b-9acd-4ca4-f368-cf330ff07c78"
      },
      "execution_count": 234,
      "outputs": [
        {
          "output_type": "stream",
          "name": "stdout",
          "text": [
            "0 Pura Taman Saraswati Ubud Pura Hindu di peruntukan tempat memuja Dewi Saraswati. Di pura Taman Saraswati Ubud terdapat ukiran khas Ubud Bali, memiliki kolam bunga teratai, mengelilingi panggung pementasan tari Bali.\n",
            "\n",
            "1 Danau Batur merupakan danau kawah berlokasi Kabupaten Bangli. Lokasinya berada dalam kaldera gunung berapi aktif, Gunung Batur namanya. Berada ketinggian 1.050 meter atas permukaan laut, cocok buat kamu mencari suasana sejuk jauh keramaian.\n",
            "\n",
            "2 Grup Sari Wisata Budaya merupakan salah satu grup tari tradisional Bali Denpasar rutin mengadakan Pertunjukan Tari Barong Kecak. Teaternya luas memiliki pengaturan tempat duduk tepat. Pertunjukan Barong hari dimulai pukul 21:30 hari, tari kecak pukul 18:00.\n",
            "\n",
            "3 Manta point salah satu tempat menyelam paling terkenal Nusa Penida Anda melihat pari Manta hampir sepanjang tahun. Dan panduan baik, Anda melihat lebih Manta: hiu, makro, pari marmer, pari elang, pari menyengat. Kami bahkan melihat Mola Mola sana. Kesempatan penemuan hebat penyelaman menyenangkan selama perjalanan Anda Bali!\n",
            "\n",
            "4 Museum Subak museum menyajikan informasi berkaitan sistem irigasi (pengairan) sawah tradisional Bali Subak. Museum terletak Kota Tabanan, Provinsi Bali. Museum merupakan museum khusus sistem pertanian Bali berciri khas kemandirian atas landasan kekal “Tri Hita Krana”, konsep keseimbangan tiga penyebab kebahagiaan (Tuhan, manusia alam).\n",
            "\n",
            "5 Taman Sukasada, sebuat taman di banjar Ujung, desa Tumbu, kecamatan Karangasem, Karangasem, Bali. Taman terletak 5 km sebelah tenggara kota Amlapura. Pada masa Hindia Belanda tempat dikenal nama Waterpaleis atau \"istana air\".\n",
            "\n",
            "6 Pemandangan pantai Amed sangat fantastis, terutama pagi hari matahari terbit. Maka itu, Pantai Amed Karangasem Bali tempat sangat baik Anda kunjungi, Anda mencari tempat liburan tenang jauh keramaian.\n",
            "\n",
            "7 Museum lukisannya objek wisata Ubud Bali. Don Antonio Blanco maestro lukis kelahiran Filipina terkenal seniman eksentrik. Ini dapat lihat bentuk museum lukisan. Lokasi museum Blanco Ubud, terletak di puncak bukit menghadap lembah sungai Campuhan.\n",
            "\n",
            "8 Pasar tradisional Sukawati tempat sangat tepat berbelanja barang harga murah. Walaupuan anda tidak berbelanja, hanya melihat jenis oleh-oleh kerajinan khas pulau Bali, pasar tradisional Sukawati cocok anda kunjungi.\n",
            "\n",
            "9 Hal utama menjadi daya tarik tempat wisata taman Kerta Gosa arsitektur bangunan mencirikan arsitektur khas Bali abad 17. Keindahan arsitektur terutama terlihat bangunan Bale Kambang, di kelilingi kolam yang disebut Taman Gili. Karena terdapat kolam mengelilingi Bale Kambang, untuk memasukai area bangunan Bale Kambang, pengunjung melewati jembatan batu-bata.\n",
            "\n",
            "10 Alas Harum merupakan salah satu objek agrowisata populer terletak Jl. Lunga Tegallalang, 20 menit Pusat Ubud. Tempat akan menawarkan Anda banyak kegiatan langkah-langkah membuat kopi luwak, ayunan, zip line banyak tempat berfoto pemandangan indah sempurna pemandangan teras pribadi, lantai kaca, sarang burung, jembatan menari, besar lekukan wajah gorila pekak brayut. Selain itu, Alas Harum memiliki patung luwak terbesar Indonesia.\n",
            "\n",
            "11 Ciri khas melekat Rumah Coklat terdapat bangunan desain unik sekaligus menjadi ikon menarik kalangan wisatawan berfoto. Anda mungkin akan takjub model bangunan rumah hobbit atap runcing jendela bundar. Bangunan bukanlah villa dapur tempat menyiapkan hidangan dipesan pengunjung berupa kios menjual bubuk coklat.\n",
            "\n",
            "12 Pura Agung Jagatnatha pura Bali indah terletak jantung kota Denpasar. Ini kuil terbesar ibu kota pulau merupakan landmark ikonik. Pura dibangun wilayah timur taman rimbun Lapangan Puputan Badung. Sebagai pura umum, jarang pengunjung penduduk lokal semua lapisan masyarakat berkumpul pura beribadah. Tidak pura diberi nama sesuai lokasinya, Pura Agung Jagatnatha dinamai Denpasar. Sifat yang membuatnya unik kenyataan ia memiliki staf memeliharanya. Sebaliknya, pura dikelola tim relawan reguler yang juga beribadah pura\n",
            "\n",
            "13 Pura Tirta Empul adalah pura Hindu di tengah pulau Bali, Indonesia, tepatnya Desa Manukaya, Kecamatan Tampaksiring, Kabupaten Gianyar,[1] yang terkenal air sucinya mana orang Hindu Bali mencari penyucian.\n",
            "\n",
            "14 Taman Budaya Garuda Wisnu Kencana kerap disebut dengan GWK, sebuah taman wisata budaya bagian selatan pulau Bali. Taman wisata terletak di Desa Ungasan, Kecamatan Kuta Selatan, Kabupaten Badung, kira-kira 40 kilometer di sebelah selatan Denpasar, ibu kota provinsi Bali.Di sini berdiri megah sebuah landmark atau maskot Bali, patung Garuda Wisnu Kencana menggambarkan sosok Dewa Wisnu menunggangi tunggangannya, Garuda, setinggi 121 meter.\n",
            "\n",
            "15 Salah satu alasan banyak wisatawan menyukai rafting sungai Ayung Ubud, aktivitas rafting sungai Ayung Ubud bersifat rekreasi, arus sungai tidak kuat.\n",
            "\n",
            "16 Pantainya menghadap timur membuat tempat wisata menjadi pantai terbaik wisatawan ingin melihat matahari terbit sempurna. Di samping air laut sangat jernih sangat menggoda.\n",
            "\n",
            "17 Dolphin Watersports salah satu banyak perusahaan olahraga air Tanjung Benoa, Nusa Dua. Terletak jalan Segara Lor Tanjung Benoa, sekitar 40 menit Bandara Ngurah Rai. Perusahaan melayani aktivitas olahraga air parasailing, banana boat, jet ski, fly fish, snorkeling, scuba diving, masih banyak lagi. Dioperasikan didukung staf profesional standar internasional semua peralatan keselamatan.\n",
            "\n",
            "18 Tembeling (atau Temeling)  salah satu daya tarik pulau Nusa Penida, terpencil. Anda menemukan satu tempat sama sebuah hutan primer, kolam alami tempat sangat romantis tepi laut.\n",
            "\n",
            "19 Daya tarik utama pantai Legian terletak pada, pesisir pantai sangat landai memiliki bentangan pasir pantai sangat panjang. Terbentang sisi utara pantai Kuta, sisi selatan pantai Double Six Seminyak. Ombak pantai Legian banyak minati peselancar, karena lomba selancar sering adakan pantai ini. Karena ombak Legian beach sangat cocok aktivitas selancar, membuat pantai Legian sangat diminati wisatawan asing berlibur Bali, terutama wisatawan Australia. Jika anda mahir berselancar, dapat menyewa papan selancar banyak tersedia pinggir pantai.\n",
            "\n",
            "20 Objek wisata Pantai Padang Bai menawarkan pasir putih ombak laut sangat tenang perairan dangkal. Karena perairan pantai Padang Bai sangat tenang dangkal, pada sore hari, banyak wisatawan lokal mengajak anak-anak berenang perairan pantai Padang Bai.\n",
            "\n",
            "21 Bunut Bolong pohon bunut raksasa desa Manggisari Jembrana, Bali Barat. Pohon bunut raksasa berusia sangat tua landmark alam disucikan penduduk setempat. Mereka percaya pohon sudah berusia berabad-abad. Kata \"Bunut\" adalah kata Bali jenis pohon tertentu memiliki karakteristik mirip beringin, kata \"Bolong\" berarti \"lubang\", demikian kata \"Bunut Bolong\" berarti pohon Bunut memiliki lubang dalamnya.\n",
            "\n",
            "22 Bukit Jambul Karangasem menjadi satu tempat menarik bisa dijumpai Kabupaten Karangasem, Bali. Di tempat ini, wisatawan bisa menyaksikan pemandangan alam Karangasem masih hijau alami. Keberadaan Bukit Jambul semakin menahbiskan Pulau Dewata Bali provinsi memiliki kebijakan wisata ramah lingkungan.\n",
            "\n",
            "23 Tempat bagus para pecinta kopi. Anda mendapatkan gratis 14 minuman penguji (kopi, teh, dll), saya memesan secangkir kopi luwak sini seharga 50 ribu rupiah. Sayang sekali itu berkabut hujan saya datang sini.\n",
            "\n",
            "24 Virgin Beach Bali katakan salah satu pantai terbaik Bali timur sangat sering sebutkan buku panduan wisata perjalanan luar negeri. Pasir di pantai Virgin Beach warnanya benar-benar putih, lebih condong berwarna kuning, sedikit bercampur pasir hitam, di kenal sebutan pantai pasir putih.\n",
            "\n",
            "25 Bukit Asah Bali merupakan sebuah bukit berhadapan laut lepas menyimpan sejuta keindahan. Area Bukit Asah sangat indah beberapa pemandangan bisa lihat pantai Bias Putih, Tebing bukit Panggian juram, pulau Kuan depan Bukit Asah terasiring bukit. Kemah Bukit Asah menjadikan keluarga lebih dekat alam dan menjadikan pikiran menjadi lebih fresh setelah bergelut kesibukan sehari hari.\n",
            "\n",
            "26 Suasana alami masih asri memberikan sensasi ketenangan pengunjung Air Terjun Nungnung. Lokasinya berada area pedesaan, membuat keasrian tempat masih terjaga baik. Di sisi lain, fasilitas pendukung disediakan pemerintah setempat kenyamanan para wisatawan cukup memadai.\n",
            "\n",
            "27 Objek Wisata Anjungan Tukad Melangit Tembuku Bangli Bali salah satu tempat wisata berada Dusun Antugan, Desa Jehem, Kecamatan Tembuku, Kabupaten Bangli, Bali, Indonesia. Objek Wisata Anjungan Tukad Melangit Tembuku Bangli Bali tempat wisata ramai wisatawan hari biasa maupun hari liburan. Tempat sangat indah bisa memberikan sensasi berbeda aktivitas sehari hari.\n",
            "\n",
            "28 Museum Seni Agung Rai atau Agung Rai Museum of Art (ARMA) merupakan salah satu museum seni rupa di Bali yang menyimpan berbagai koleksi lukisan berasal pelukis-pelukis ternama baik dalam negeri maupun mancanegara. Museum diresmikan oleh Menteri Pendidikan Kebudayaan Indonesia, Prof. Dr. Ing. Wardiman Djojonegoro 9 Juni 1996.\n",
            "\n",
            "29 Pantai terkenal sejak awal 1970-an. Pantai Kuta dikenal sebutan Sunset Beach, kebalikan Sunrise Beach, nama dari Pantai Sanur . Resor mewah, restoran, klub terletak sepanjang pantai. Pada tahun 2011, pagar batu pasir putih sepanjang meter dibangun dengan gaya arsitektur Bali, dibangun sepanjang jalan memblokir pasir masuk kafe restoran. Proyek menelan biaya Rp4 miliar ($0,47 juta). Beberapa turis tidak menyukainya dianggap menghalangi pemandangan pantai, percaya tembok membantu meredam suara lalu lintas padat jalan yang berdekatan. Untuk membuat pantai lebih bersih, mulai akhir Agustus 2011, pedagang dilarang menjual makanan pantai, masih diperbolehkan menjual minuman suvenir.\n",
            "\n",
            "30 Taman Nusa Bali sebuah taman budaya fokuskan budaya Indonesia. Selain itu, taman budaya terdapat banyak informasi akan dapatkan pengunjung. Sebagian besar mengenai kebudayaan berbagai suku ada di Indonesia.\n",
            "\n",
            "31 Pulau penyu Bali tempat penangkaran penyu hijau lokasinya berada di obyek wisata Tanjung Benoa Bali. Pengelolaan penangkaran penyu hijau, lakukan swadaya masyarakat Tanjung Benoa, sebelumnya sebagian besar bekerja nelayan. Yang dapat lihat wisata ke penangkaran penyu hijau Tanjung Benoa seperti, penyu hijau, ular piton, burung masih banyak hewan lainnya.\n",
            "\n",
            "32 Bali Camel Adventure menyediakan paket naik unta berikut menyaksikan keindahan alam sunset pantai Kelan dinner suguhan seefood menu ikan bakar, akan merasakan suasana romantis pasangan terkasih anda.\n",
            "\n",
            "33 Taman Mumbul Sangeh merupakan lokasi disucikan di taman terdapat sebuah tempat suci (pura) taman juga digunakan tempat upacara Melasti masyarakat desa Sangeh. Di taman terdapat sebuah kolam air sangat jernih dihuni ribuan ikannya siap menyapa anda. Taman merupakan sebuah area hijau asri. Dari sisi sebelah selatan kolam bisa menyaksikan indahnya panorama kolam sekitarnya teduhnya pepohonan menaungi sebuah kolam.\n",
            "\n",
            "34 ATV Ride Wake Bali Adventure merupakan ATV pertama Bali melalui trek persawahan, tebing, sungai , pantai berpasir hitam begitu indah. Panjang trek kurang 6,5 km memerlukan waktu tempuh 2,5 jam. Tapi jangan khawatir selama perjalanan, akan ditemani pemandu sudah profesional.\n",
            "\n",
            "35 Satu obyek wisata alam eksotik Bali masih jarang diketahui wisatawan ngarai berada wilayah Desa Guwang Kecamatan Sukawati Kabupaten Gianyar. Sebuah ngarai tersembunyi disebut Hidden Canyon Beji Guwang Sukawati wisatawan asing. Ngarai (Canyon = Bahasa Inggris) merupakan lembah dalam sempit lereng bebatuan dibentuk akibat erosi aliran air sungai memberikan kesan artistik setiap dinding tebing - tebing sepanjang aliran sungai Beji Guwang.\n",
            "\n",
            "36 Pantai Pandawa Bali, salah satu pantai pasir putih terkenal Bali wajib kunjungi anda liburan pulau dewata. Pandawa beach terletak Desa Kutuh, Kabupaten Badung lebih terkenal kalangan wisatawan mancanegara khususnya Australia nama secret beach of Bali. Sedangkan masyarakat lokal lebih mengenal nama pantai Kutuh.\n",
            "\n",
            "37 Air Terjun Kanto Lampo . Ini permata tersembunyi Bali mana Anda berendam air murni, berfoto atas batu karang terkenal. Tersembunyi jauh dalam hutan wilayah Gianyar, Air Terjun Kanto Lampo menjadi pemandangan bagus dijelajahi.\n",
            "\n",
            "38 Sepanjang hari, berbagai acara Anda ikuti, termasuk waktu makan interaktif. Berbagai kegiatan tersedia, Night at the Zoo melihat tingkah laku satwa matahari terbenam. Kebun binatang juga berfungsi situs konservasi berbagai spesies, jadi Anda dapat yakin semua hewan tinggal sini segembira mungkin!\n",
            "\n",
            "39 Taklukkan rasa takut Anda ketinggian nikmati sore hari terbang melalui aktivitas paralayang Pantai Timbis, Bali. Terbang atas Samudra Hindia menakjubkan lihat pura tersembunyi, tebing kapur, cakrawala Bali indah atas. Tidak perlu khawatir keselamatan Anda mendapatkan pelajaran dasar paralayang prosedur keselamatan terbang\n",
            "\n",
            "40 Bali swing desa Bongkasa sebuah rekreasi wisata petualangan baru ada Bali. Swing ayunan cukup diminati mereka ingin merasakan sebuah tantangan uji nyali. Memang menikmati berbagai tantangan termasuk pesona alam indah pulau Dewata Bali, tentunya sering dimanjakan keindahan alam pantai termasuk sejuknya alam pegunungan, danau juga air terjun ada pulau ini.\n",
            "\n",
            "41 Kebun Raya Bali merupakan tempat unik pulau Bali memadukan penelitian botani, pelestarian tumbuhan, pendidikan rekreasi. Disini bersantai menikmati keindahan kedamaian mempelajari manfaat tumbuhan kehidupan masyarakat. Di kebun raya anda dapat melihat tumbuhan hutan hujan tropik kehidupan burungnya.\n",
            "\n",
            "42 Ubud Palace sebuah kompleks bangunan bersejarah terletak di Ubud , Kabupaten Gianyar Bali , Indonesia. Istana merupakan kediaman resmi keluarga kerajaan Ubud. Dalam perjalanannya Rsi Markandya menerima wahyu ilahi Bali akan mengubur lima logam mulia lereng gunung tempat candi induk Besakih sekarang berdiri ini. Bersama sekelompok pengikutnya, Rsi Markandya magnetis tertarik sebuah destinasi terletak kaki bukit tengah pulau memancarkan cahaya energi. Tempat adalah Campuhan Ubud sebuah persimpangan di Sungai Wos di sinilah merasa terdorong membangun sebuah pura nama Pura Gunung Lebah.\n",
            "\n",
            "43 Blue Lagoon Beach pantai bagus snorkeling. Terumbu karang berada tepat atas pantai sangat cantik. Cara terbaik masuk sisi paling kiri, ada kanal terumbu karang mengarah titik snorkling. Terdapat titik snorkeling bagus teluk, meski snorkeling Blue Lagoon White Sand Beach jauh lebih baik.\n",
            "\n",
            "44 Toya Bungkah nama pemandian air panas Kintamani juga terkenal nama Batur Natural Hot Spring Kintamani. Arti nama Toya Bungkah berasal dua suku kata, Toya artinya air Bungkah artinya bongkahan batu. Karena sumber air panas berasal akuifer kedalaman 635 meter permukaan tanah memiliki suhu air 50 derajat celcius.\n",
            "\n",
            "45 Desa Penglipuran adalah salah satu desa adat terletak di Kabupaten Bangli , Provinsi Bali , Indonesia . Desa Penglipuran terkenal salah satu tujuan wisata di Bali karena masyarakatnya melestarikan budaya tradisional dalam kehidupan sehari-hari. Arsitektur bangunan pengolahan lahan masih mengikuti konsep Tri Hita Karana, falsafah masyarakat Bali keseimbangan hubungan Tuhan, manusia lingkungannya. Desa Penglipuran berhasil membangun pariwisata bermanfaat seluruh masyarakatnya kehilangan budaya tradisinya. Pada tahun 1995, Desa Penglipuran menerima penghargaan Kalpataru Pemerintah Indonesia atas upayanya menjaga Hutan Bambu ekosistem lokalnya.\n",
            "\n",
            "46 Daya tarik utama Bias Tugel beach terdapat lokasinya tersembunyi terisolasi area bukit batu karang. Hal membuat Bias Tugel beach terlalu ramai pengunjung. Selain itu, pasir pantai berwarna putih sedikit bercampur pasir hitam. Jadi Bias Tugel Beach memiliki pasir putih halnya pantai Melasti Ungasan pantai Padang-Padang.\n",
            "\n",
            "47 Bali Culture Center  adalah Bali mini sajian budaya Bali lengkap keunikan budaya ada Pulau Bali. Budaya Bali sangat unik kompleks berkaitan kehidupan sosial, keluarga agama. Selanjutnya, Anda menemukan berbagai kegiatan budaya staf ramah memandu menyajikannya Anda. Di set ketenangan pedesaan Nyuh Kuning,  Ubud Bali  dan kelapa tiga mengelilinginya. Ragam budaya klasik berkaitan Hindu Bali dihadirkan semua pengunjung arsitektur bangunan Bali indah. Selain itu, Anda mengunjungi situs selama  Tur Ubud kami  atau sengaja mempelajari Program Pelajaran Budaya Bali.\n",
            "\n",
            "48 Sebagian besar wisatawan berkunjung objek wisata pantai Jimbaran, mencari hidangan laut khas Bali, tujuan yaitu melihat pemadangan matahari terbenam sunset. Maka itu, sore hari menjelang malam, tempat wisata pantai Jimbaran selalu ramai mendapat kunjungan wisatawan. Baik wisatawan mancanegara wisatawan domestik.\n",
            "\n",
            "49 Taman Edelweis sangat cocok tempat berlibur keluarga. Karena disana terdapat taman bunga indah. Terdapat jenis bunga kansa edelweis mendominasi. Oh iya, bunga kansa sendiri merupakan bunga identik adat istiadat masyarakat Bali, tak jarang diadakan upacara keagamaan menggunakan bunga kansa salah satunya.\n",
            "\n",
            "50 Karang Boma Cliff merupakan objek wisata tebing pantai pecatu kuta bali menjorok laut memiliki sisi historis. Puncak Tebing Karang Boma sendiri letaknya berada atas ketinggian 97 meter atas permukaan air laut bawahnya. Dan inilah menjadi daya tarik utama puncak karang boma yakni menikmati sensasi pesona keindahan alam terhampar bawahnya\n",
            "\n",
            "51 Pulau Peninsula Nusa Dua wilayah Badung ini, ditata baik, bagian terbesarnya lapangan padang rumput hijau selalu dirawat tertata rapi, bagian tengah tanah lapang hijau terdapat sebuah tugu berdiri patung Arjuna – Krisna. Tugu tersebut menyambut kedatangan wisatawan berkunjung objek wisata ini. Ruang terbuka hijau menjadi destinasi wisata tempat rekreasi ideal mengisi liburan keluarga terutama anak-anak.\n",
            "\n",
            "52 Splash Water Park menampilkan seluncuran air kelas dunia aktivitas membawa kesenangan tingkat sama sekali baru! Terletak Finns Recreation Club, Splash dirancang mempertimbangkan kesenangan Anak-anak Dewasa. Tata letak rencana terbuka berarti Orang Tua mengawasi anak-anak kenyamanan kursi berjemur mereka, menikmati makanan minuman disajikan meja kursi berjemur Anda. Splash Water Park memiliki beberapa area fungsi terbuka tertutup tersedia pemesanan grup. Baik pesta anak-anak, kumpul-kumpul keluarga, membangun tim rekan kerja, area fungsi seluncuran air sekitarnya akan menjadi hari menyenangkan!\n",
            "\n",
            "53 Jika ingin melihat salah satu karya pelukis terkenal Indonesia, pak Affandi. Maka Museum Neka Ubud, ada jadwal liburan Bali. Karena di Museum Neka Ubud, terdapat 2 koleksi lukisan karya Affandi.\n",
            "\n",
            "54 Tirta Gangga bekas istana kerajaan Bali timur , Indonesia , 5 kilometer Karangasem , dekat Abang . Dinamakan sungai suci Gangga agama Hindu, tempat terkenal istana air kerajaan Karangasem, kolam pemandian, kuil Patirthan.\n",
            "\n",
            "55 Tegalalang Rice Terrace, objek wisata merupakan areal persawahan menawarkan pemandangan unik asri. Berbeda areal persawahan kota-kota lainnya, areal persawahan didesain berundak (terassering), menciptakan teras-teras hijau memesona.\n",
            "\n",
            "56 Di Upside Down World Bali, Anda mengambil gambar paling menarik suasana biasa saja. Pertama kali didirikan tahun 2016, Upside Down World studio foto 8 ruangan berbeda, masing-masing konsep desain interior unik. Anda mungkin bertanya-tanya, apa membuatnya istimewa? Sesuai namanya, Upside Down World memiliki kamar semuanya terbalik!\n",
            "\n",
            "57 Air Terjun Banyumala air terjun indah memiliki 3 formasi jatuhan air. Yang terbesar berada tengah. Yang lebih kecil berada sebelah kiri kanannya. Sebuah kolam alami berada bawahnya.\n",
            "\n",
            "58 Gunung Batur merupakan sebuah gunung berapi aktif Kecamatan Kintamani, Kabupaten Bangli, Bali, Indonesia. Sisi tenggara kaldera berukuran 10×13 km sebagian besar berisi danau kaldera.\n",
            "\n",
            "59 Kelingking Beach salah satu spot Nusa Penida paling terkenal. Situs perjalanan besar menggunakan fotonya mengiklankan Bali bahkan terkadang Indonesia. Tempatnya memang sangat spektakuler sungguh menakjubkan. Batuan Pantai Kelingking terlihat tulang punggung dinosaurus akan minum laut.\n",
            "\n",
            "60 Monkey Forest Ubud suaka habitat alami kera ekor panjang Bali. Terletak Padangtegal Ubud, Bali. Sekitar 1049 monyet tinggal cagar alam ini. Mereka dibagi menjadi 6 kelompok, kelompok depan candi utama, kelompok konservasi hutan, kelompok titik tengah, kelompok timur, kelompok Michelin, kelompok kuburan.\n",
            "\n",
            "61 Bali Fantasi salah satu taman penyu Desa Tanjung Benoa. Taman penyu Bali Fantasi dikelola komunitas organisasi lokal. Berdasarkan tersebut, penelitian untuk mengetahui bagaimana masyarakat lokal mengelola Bali Fantasi Taman Atraksi Wisata.\n",
            "\n",
            "62 Keunikan desa Tenganan Karangasem daya tarik wisata terdapat bangunan penduduk masih traditional, tenunan kain gringsing, acara perang pandan.\n",
            "\n",
            "63 Habiskan hari indah Bali Exotic Marine Park saksikan bagaimana lumba-lumba berenang bermain air. Jangan lewatkan kesempatan membenamkan diri kehidupan laut Bali mengunjungi lembaga konservasi hewan\n",
            "\n",
            "64 Kintamani Lookout salah satu objek wisata paling populer favorit timur laut Bali merupakan rumah alam mempesona enam desa kuno bersama daya tarik utamanya, Danau Batur memukau bertengger samping gunung berapi aktif. Desa Penelokan, Toya Bungkah, Batur, Kedisan, Abung, Songan Kintamani melambangkan keindahan abadi, mereka mengelilingi kuali danau.\n",
            "\n",
            "65 Toya Devasya Natural Hot Spring tidak menyediakan kolam pemandian air panas saja, juga resor tempat menginap, anda merasakan suasana alam berbeda, tenang nyaman jauh hiruk pikuk perkotaan. Menikmati liburan keluarga terutama bersama anak-anak memberikan pengalaman menarik menyenangkan, bahkan tempat ideal tujuan wisata bulan madu honeymoon.\n",
            "\n",
            "66 Tujuan utama sebagian besar wisatawan mengunjungi pantai Amuk Bay Karangasem menikmati keindahan panorama alam bawah laut masih alami. Ada banyak cara wisatawan gunakan untuk dapat menikmati keindahan alam bawah laut Amuk Bay, melakukan aktivitas diving, snorkeling bahkan melakukan aktivitas wisata kapal selam.\n",
            "\n",
            "67 Bedugul kawasan resor danau pegunungan Bali , Indonesia , terletak wilayah tengah-utara pulau dekat Danau Bratan jalan Denpasar Singaraja , kawasan meliputi desa Bedugul sendiri, Candikuning , Pancasari , Pacung Wanagiri lain. Sawah Terasering Jati Luwih, Bedugul, Bali.\n",
            "\n",
            "68 Sawah Terasering Jatiluwih  salah satu objek wisata Bali selalu banyak dikunjungi wisatawan harinya.  Objek wisata berada Desa Jatiluwih, menawarkan pemandangan menakjubkan sawah irigasi berkontur menggunakan sistem air komunal dikembangkan petani Bali.\n",
            "\n",
            "69 Water Blow Peninsula Nusa Dua objek wisata memiliki karakteristik keunikan fenomena alam deburan ombak menjulang tinggi mencapai 8 meter akibat terempas karang-karang.\n",
            "\n",
            "70 Circus Waterpark Bali masuk waterpark terbaik Asia. Tentunya bukan alasan, memang baik segi tatanan tempat, wahana hingga fasilitasnya sangat lengkap bagus. Sehingga tak heran, tempat wisata Bali sering mendapatkan penghargaan. Ya, bukan diakui waterpark terbaik Asia tahun 2014, juga mendapatkan penghargaan TripAdvisor juara Excellence Service Award tahun 2013.  Bahkan terakhir Circus Waterpark Kuta juga mendapatkan penghargaan Gold Certifikat THK, merupakan organisasi lingkungan hidup.\n",
            "\n",
            "71 Istana Tampaksiring adalah istana dibangun setelah Indonesia merdeka, terletak di Desa Tampaksiring, Kecamatan Tampaksiring, Kabupaten Gianyar, Bali. Istana ini berdiri atas prakarsa Presiden Soekarno yang menginginkan adanya tempat peristirahatan hawanya sejuk jauh keramaian kota, cocok Presiden Republik Indonesia beserta keluarga maupun tamu-tamu negara.\n",
            "\n",
            "72 Tanah Lot formasi batuan pulau Bali, Indonesia . Ini adalah rumah kuil ziarah Hindu kuno Pura Tanah Lot (secara harfiah \"pura Tanah Lot\"), ikon wisata budaya populer fotografi.\n",
            "\n",
            "73 Obyek Wisata Alam Sangeh hanya terkenal keberadaan Keranya jinak, karena adanya 10 ha. Homogen hutan Pala (Dipterocarpus trinervis), bijinya bisa dimakan juga adanya Pura Bukit Sari merupakan Pura peninggalan Abad Ke- 17 waktu kejayaan kerajaan Mengwi.\n",
            "\n",
            "74 Bali Countryside Pedesaan Bali properti dimiliki keluarga Bali, diciptakan menawarkan cara alternatif menemukan Bali melibatkan diri menuju pengembangan pariwisata berkelanjutan. Antara lain, bisa mengadakan trekking sawah workshop budaya penduduk setempat belajar budaya Bali.\n",
            "\n",
            "75 Taman Nasional Bali Barat terletak bagian barat pulau Bali Indonesia. Taman nasional mempunyai luas 19.002,89 Ha terdiri kawasan terestrial seluas 15.587,89 ha. kawasan perairan selaus 3.415 ha salah satu kawasan kawasan konservasi. Taman Nasional Bali Barat terdiri berbagai habitat hutan sabana. Di tengah-tengah taman didominasi sisa-sisa empat gunung berapi zaman Pleistocene, gunung Patas sebagai titik tertinggi tempat ini.\n",
            "\n",
            "76 Bali Handara Gate, mungkin asing banyak orang, sebuah gapura terdapat kawasan Handara Golf & Resort Bali. Gapura tersebut terletak pinggir jalan raya utama menghubungkan kawasan wisata Bedugul Singaraja Buleleng. Sehingga heran tempat tersebut warga lokal tidak akan asing lagi, ataupun mereka supir wisata melayani rangkaian tour arah Bali Selatan menuju kawasan Bali Utara familiar tempat ini. Berbeda halnya bagi wisatawan baru pertama kali sini, keindahan ditawarkan Bali Handara Gate tersebut, menjadi daya tarik tersendiri, gapura tersebut terlihat cantik spesial diantara alam hijau taman-taman indah latar belakang pegunungan kawasan ini, gapura bahkan disebut gerbang kahyangan.\n",
            "\n",
            "77 Area bukit Cinta banyak kunjungi wisatawan suka jalan-jalan area bukit hijau terutama menjelang matahari terbenam. Jalan-jalan area bukit Cinta Ubud terkenal nama Campuhan Ridge Walk.\n",
            "\n",
            "78 Jika candi biasanya berdiri atas sebidang tanah, candi Gunung Kawi berada dalam tebing. Objek wisata candi tebing Gunung Kawi situs purbakala. Daya tarik utama objek wisata candi tebing Gunung Kawi, terletak candi berada dalam tebing, karena tempat sangat asri, suara germercik air sungai Pakerisan.\n",
            "\n",
            "79 Tari Api Kecak salah satu pertunjukan seni paling ikonik Bali, berlangsung amfiteater puncak tebing samping Pura Uluwatu. Tempat duduk beton berjenjang mengelilingi panggung tengah cekung, menawarkan pemandangan Samudera Hindia mengesankan. Untuk drama tambahan, pertunjukan tari matahari terbenam menampilkan api, vokal manusia digunakan pengganti instrumen gamelan.\n",
            "\n",
            "80 Bagi Anda pecinta kupu-kupu wajib berkunjung Kemenuh Butterfly Park, tempat merupakan tempat wajib dikunjungi bersama keluarga. Karena tempat si kecil melihat kupu-kupu jarak dekat, heran tempat dijadikan wisata edukasi cocok dikunjungi anak-anak. Namun bukan berarti orang dewasa cocok berkunjung tempat ini.\n",
            "\n",
            "81 Pura memang memiliki latar belakang sejarah sangat penting akanan tatanan kehidupan masyarakat Bali sekarang ini. Selain latar belakang sejarah berdirinya Pura Samuan Tiga menjadi bagian penting perkembangan kepercayaan beragama umat Hindu Bali, pura Samuan Tiga merupakan peninggalan bersejarah masa lampau mana dikenal Pura Samuan Tiga, pura sudah berdiri dinamakan Pura Gunung Goak bahkan yang menyebutnya Pura Batan Bawah.\n",
            "\n",
            "82 Ingin menikmati rekreasi petualangan alam laut menyaksikan atraksi hewan mamalia laut berbagai kelincahannya alam bebas hewan lumba-lumba perairan pantai Lovina Kabupaten Buleleng menjadi tujuan tour berikutnya. Kawasan pariwisata Bali Utara menjadi alternatif tujuan tour di pulau Bali berikutnya, sediakan tiket dolphin Lovina, menawarkan wisata petualangan baru anda, menonton menyaksikan atraksi di lautan lepas.\n",
            "\n",
            "83 Pura Gunung Lebah berjarak 1,5 Km pasar Ubud barat. Berada lembah menyatu sungai Cerik sungai Wos berhadapan Tjampihan. Gunung Lebah berarti \"bukit lebah\" bahasa Indonesia. Kuil sangat sunyi. Pura Gunung Lebah merupakan pura menjadi tempat lahirnya Ubud sejarah.\n",
            "\n",
            "84 Pasir pantai Kedongan berwarna putih kekuningan butiran pantai sedikit kasar. Kebersihan garis pantai sangat terjaga bentangan garis pantai sangat panjang landai. Saya kurang tahu seberapa panjang garis pantai Kedonganan, sejauh mata memandang.\n",
            "\n",
            "85 Kegiatan terbaik dapat dilakukan danau adalah tracking menyusuri Danau Buyan hingga Danau Tamblingan. Nikmati kelestarian ketenangan alam berjalan-jalan menyusuri rerimbunan pepohonan pemukiman warga lokal. Siswa-siswa sekolah senang menyatu dengan alam sering menggunakan kawasan Danau Tamblingan tempat berkemah.\n",
            "\n",
            "86 Air Terjun Leke Leke tempat wisata Bali mengenai objek wisata air terjun terletak Desa Antapan, Kecamatan Baturiti, Kabupaten Tabanan. Objek wisata air terjun sangat populer kalangan wisatawan menawarkan pemandangan indah tiada tara, banyak wisatawan berduyun-duyun tempat untuk melepas penat stress perkotaan sekedar menikmati sensasi berbeda liburan di pulau Bali.\n",
            "\n",
            "87 Pura (Luhur) Uluwatu sebuah pura laut Hindu Bali ( Pura Segara ) terletak di Uluwatu ( Kuta Selatan , Badung ). Pura dianggap salah satu kahyangan menyedihkan dan dipersembahkan kepada Sang Hyang Widhi Wasa dalam manifestasinya sebagai Rudra\n",
            "\n",
            "88 Pura Masceti salah satu sembilan pura Bali seharusnya menjaga pulau roh laut jahat. Kuil terletak pantai suci Masceti pantai timur pulau itu. Ini kuil kurang dikenal jarang dikunjungi turis. Kami yakin candi ini tidak semenakjubkan candi pengarah lainnya, karena legenda Wisnu Laksmi dicintainya menakuti pelancong.\n",
            "\n",
            "89 Kawasan wisata Candi Dasa Karangasem kawasan resort mirip dengan kawasan objek wisata Sanur. Umumnya wisatawan berlibur Candi Dasa Karangasem ingin menikmati suasana berbeda kawasan pariwisata berada Bali selatan.\n",
            "\n",
            "90 Taman Anyar taman memperlajari kehidupan sehari-hari orang Bali biasa, Anda belajar bagaimana menjadi orang Bali. mulai proses bertani, belajar rumah pura Bali, membuat persembahan, kelas memasak, membuat minyak kelapa menikmati makan siang pertunjukan tari. cara terbaik menghindari tempat wisata mulai tradisi.\n",
            "\n",
            "91 Cable Wakeboarding danau seluas 6 hektar, tantang diri Anda Aqua Park terbesar Asia Aqua Land. Kami memiliki infinity pool bar, Cables Cafe, Pro Shop semua kebutuhan boarding Anda butik pakaian olahraga menampilkan Slam 69 Rip Curl gear. Penyimpanan gratis wakeboard perlengkapan pengunjung luar negeri. Buka sekarang, Bunk House by Bali Wake Park, penginapan tempat untuk tamu ingin bangun tempat tidur melompat atas kapal!\"\n",
            "\n",
            "92 Bukit Teletubbies tempat prewed asyik menyenangkan. Bukit diberi nama situs Teletubbies hampir syuting film Teletubbies. Dimana terdapat gundukan-gundukan tinggi dihiasi rerumputan tanaman hijau jarak perbukitan berdekatan.\n",
            "\n",
            "93 Pura Penataran Agung Lempuyang adalah sebuah pura yang terletak lereng Gunung Lempuyang di Karangasem, Bali. Pura Penataran Agung Lempuyang dianggap bagian kompleks pura sekitar Gunung Lempuyang, salah satu pura sangat dihormati Bali. Pura-pura Gunung Lempuyang, diwakili pura tertinggi puncak Gunung Lempuyang, Pura Lempuyang Luhur, merupakan salah satu Sad Kahyangan Jagad, \"enam tempat suci dunia\", enam tempat sembahyang paling suci Bali.\n",
            "\n",
            "94 Disini Anda melakukan aktivitas menonton Tari Barong, dan berfoto menggunakan adat Bali pemandangan indah. Nuansa Bali disini sangat terasa, Anda suka berfoto ria, lokasi sangatlah tepat Anda. Selain itu, datang Bale Kulkul Bali sangat cocok liburan bersama keluarga, sahabat, ataupun pasangan Anda.\n",
            "\n",
            "95 Air Terjun Tegenungan air terjun Bali , Indonesia . Terletak desa Tegenungan Kemenuh, Kabupaten Gianyar , utara ibukota Denpasar dekat desa seni Bali Ubud . Air terjun terisolasi telah menjadi objek wisata populer.\n",
            "\n",
            "96 Museum Puri Lukisan (bernama lengkap Museum Puri Lukisan Ratna Wartha) adalah museum yang menjadi tempat berbagai koleksi kesenian budaya Bali berupa lukisan dan hasil ukiran kayu tradisional yang modern. Museum merupakan museum seni tertua Bali yang menyimpan koleksi sejak tahun 1930 hingga ini. Museum menyimpak koleksi kesenian berbagai budaya Bali, termasuk Ubud, Sanur, Batuan, Young Artist, sekolah Keliki. Museum Puri Lukisan berada Jalan Raya Ubud, Gianyar, berjarak 40 menit dari bandara Ngurah Rai.\n",
            "\n",
            "97 Lengkapi liburan Anda Bali menghabiskan hari menyenangkan Bali Bird Park, rumah 1.000 burung 250 spesies seluruh dunia. Jelajahi pameran dibagi dalam wilayah asal burung, Amerika Selatan Afrika Selatan hingga Kalimantan Papua menemukan kakatua, pelikan, macaw, banyak di habitat aslinya. \n",
            "\n",
            "98 Air Terjun Tukad Cepung salah satu air terjun paling unik fotogenik Bali. Terkenal sinar matahari menyinari langsung puncak air terjun, menciptakan sinar alami melintasi formasi batuan ngarai.\n",
            "\n",
            "99 Wisata air cocok kamu keluarga maupun teman-teman bermain musim kemarau. Memiliki luas 3,8 hektar, wahana Waterbom Bali sangat menarik beragam, mulai jenisnya santai hingga yang memacu adrenalin, Funtastic, Lazy River, Constrictor, Python, Twin Racers, Smash Down 2.0, Fast n Fierce, Double Twist, Green Vipers, Pipeline, Climax, Boomerang.\n",
            "\n",
            "100 Daya tarik membuat wisatawan suka berlibur objek wisata Goa Gajah, Goa Gajah objek wisata arkeologi, keunikan bentuk ukiran anda memasuki areal goa. Area ruangan goa sangat kecil. Pada area depan goa terdapat kolam besar terdapat lima patung.\n",
            "\n",
            "101 Bagi menyukai aktivitas menyelam snorkeling (berenang atas permukaan air laut) nama Desa Tulamben akan asing buat anda. Desa Tulamben salah satu tempat pariwisata Bali, memiliki keunikan tersendiri tempat rekreasi air pulau Bali. Keunikan desa Tulamben terdapat kapal Liberty jenis USAT (US Army Transport) karam tahun 1942. Kapal USAT Liberty karam karena ditorpedo kapal selam Jepang perang dunia ke-2.\n",
            "\n",
            "102 Pura Besakih sebuah kompleks pura desa Besakih lereng Gunung Agung Bali timur , Indonesia . Ini paling penting, candi terbesar tersuci Hindu Bali, salah satu serangkaian candi Bali . Bertengger hampir 1000 meter sisi Gunung Agung, kompleks luas 23 candi yang terpisah terkait yang terbesar terpenting adalah Pura Penataran Agung. Candi dibangun enam tingkat, bertingkat lereng. Pintu masuknya ditandai candi bentar(gerbang terbelah), di luarnya Kori Agung merupakan pintu gerbang menuju pelataran kedua.\n",
            "\n",
            "103 Goa Lawah terdiri kata goa lawah. Kata Lawah bahasa Bali berarti kelelawar. Jika terjemahkan, artinya pura Goa Kelelawar. Jadi pura Goa Lawah merupakan sebuah pura area pura terdapat sebuah goa huni ribuan kelelawar. Pemandangan pura sangat khas unik. Keunikan pura terdapat pada goa berada di bawah pepohonan rindang. Selain di dinding mulut gua terdapat banyak kelelawar bergantungan.\n",
            "\n",
            "104 Museum Pasifika (Nusa Dua Bali) museum seni Bali, Indonesia menyajikan kebudayaan Asia Pasifik berbagai macam artefak budaya. Museum didirikan tahun 2006 Moetaryanto P and Philippe Augier. Museum banyak menyimpan banyak barang-barang berhubungan seni terdapat lebih 600 kesenian 200 seniman 25 negara. Maka itu dalam museum banyak dijumpai galeri-galeri berbagai kategori.\n",
            "\n",
            "105 Werdhi Budaya Art Centre salah satu pusat acara budaya paling dikenal Bali, tujuannya untuk melestarikan memamerkan kekayaan seni budaya Bali. Arsitektur pusat mencerminkan kuil-kuil tradisional Istana Kerajaan, dikombinasikan taman-taman indah mengelilingi pusat, hasilnya luar biasa. Pusat seni diresmikan tahun 1976, setiap tahun bulan Juni hingga Juli, tempat menjadi tuan rumah Festival Kesenian Bali sangat populer menyajikan pilihan pertunjukan tradisional Bali.\n",
            "\n",
            "106 Monumen Bajra Sandhi merupakan monumen perjuangan rakyat Bali sepanjang sejarah. [2] Monumen terletak depan Kantor Gubernur Bali di Denpasar , Indonesia , pulau Bali . Monumen dibangun tahun 1987, diresmikan presiden Megawati Soekarnoputri pada tanggal 14 Juni 2003.\n",
            "\n",
            "107 Pura Ulun Danu Beratan / Pura Penataran Agung Ulun Danu Beratan salah satu  sembilan Pura Khayangan Jagat mengelilingi Pulau Bali, Pura adalah tempat digunakan umat Hindu Bali maupun Indonesia memuja Tuhan Yang Maha Esa manifestasi nya “Tri Murti” (Brahma, Wisnu & Siwa) pengharapannya kesuburan Tanah, Kemakmuran kesejahteraan manusia termasuk demi lestarinya alam semesta.\n",
            "\n",
            "108 Pandora Experience Ultimate Escape Game Adventure Kuta, Bali pemain memasuki escape room kelompok terdiri 2-10 orang. Sepanjang perjalanan mendebarkan, Anda menemukan misteri, lorong rahasia, ruang tersembunyi, teka-teki menantang. Tim Anda memiliki waktu 120 menit dalam ruang pelarian mana semua indra Anda diuji hingga batasnya! Jadilah bagian kisah epik terbentang di sekitar Anda buat petualangan ruang pelarian Anda sendiri bersama teman keluarga! Tantangannya aktif!\n",
            "\n",
            "109 Bali Safari and Marine Park Taman Safari Indonesia III cabang Taman Safari terletak Gianyar , Bali. Bali Safari & Marine Park sebuah taman hiburan menawarkan hiburan budaya Bali desain terbaru pertemuan satwa liar. Taman adalah rumah lebih 1000 individu hewan 100 spesies eksotis endemik Indonesia dipilih Komodo, Orangutan, Jalak Bali Gajah Sumatera banyak lagi.\n",
            "\n",
            "110 Pura Luhur Batukaru sebuah pura Hindu Tabanan , Bali , Indonesia . Terletak lereng selatan Gunung Batukaru , gunung berapi tertinggi kedua Bali, pura adalah salah satu sembilan kayangan jagat (kuil pengarah) dimaksudkan melindungi Bali roh jahat. Awalnya dibangun abad ke-11, Pura Luhur Batukaru didedikasikan leluhur raja- raja Tabanan. Itu dihancurkan tahun 1604, dibangun pada tahun 1959. Kuil terpenting kuil adalah meru 7 tingkat didedikasikan Mahadewa, Dewa Gunung Batukaru.\n",
            "\n",
            "111 Krisna Funtastic Land memiliki berbagai macam wahana menarik Wahana Singaraja Flyer merupakan salah satu wahana sangat minati sangat menegangkan  memiliki ketinggian 30 meter, kalah dengan Wahana Star tour/Sepeda udara merupakan wahana sangat minati remaja masa kini, bisa berkeliling melihat semua area wahana atas memiliki nuansa romantic, Wahana Clasic Train/Kereta mini salah satu wahana memiliki daya tarik naik kereta sungguhan memanjakan anak-anak bisa melihat/mengelilingi area wahana, masih banyak wahana lainnya seperti Playground, Carousel, Krisna Air, Roda Gila, Dragon Coaster, Self Control Plane, Perahu Dayu, Boom-Boom Cars, Lampion Castle, Viking, Air Borne Shot, 5 D Cinema, Flying Cakra, Arena Ketangkasan. \n",
            "\n",
            "112 Pantai Kusamba salah satu banyak pantai berpasir hitam tenang eksotis Bali Timur. Ini menonjol tambak garam tradisionalnya, berusia hampir 1.000 tahun. Peternakan dijalankan penduduk desa setempat juga mencari nafkah memancing. Pada pagi hari cerah, Anda biasanya melihat sekilas nelayan setempat melakukan rutinitas sehari-hari mereka, menyiapkan jaring dan bekerja sama mengangkut  jukung  (cadik kayu) ke laut. Sementara itu, kelompok biasanya sibuk memanen garam petak-petak terdekat.\n",
            "\n"
          ]
        }
      ]
    },
    {
      "cell_type": "code",
      "source": [
        "MAX_TOKENS = 100"
      ],
      "metadata": {
        "id": "BPApNR-B2MwS"
      },
      "execution_count": 235,
      "outputs": []
    },
    {
      "cell_type": "code",
      "source": [
        "tfidf = tf.keras.layers.experimental.preprocessing.TextVectorization(\n",
        "  standardize = 'lower_and_strip_punctuation',\n",
        "  split       = 'whitespace',\n",
        "  max_tokens  = MAX_TOKENS,\n",
        "  output_mode ='tf-idf',\n",
        "  pad_to_max_tokens=False)"
      ],
      "metadata": {
        "id": "NZ3hJEsu2DBX"
      },
      "execution_count": 236,
      "outputs": []
    },
    {
      "cell_type": "code",
      "source": [
        "tfidf.adapt(places['Description'])\n",
        "desc = tfidf(places['Description'])"
      ],
      "metadata": {
        "id": "1aguMsoY2T-x"
      },
      "execution_count": 237,
      "outputs": []
    },
    {
      "cell_type": "code",
      "source": [
        "cosine_similarities = cosine_similarity(desc) "
      ],
      "metadata": {
        "id": "n_rYEwi0VmkO"
      },
      "execution_count": 239,
      "outputs": []
    },
    {
      "cell_type": "code",
      "source": [
        "similarities = {}"
      ],
      "metadata": {
        "id": "-rZJQ3PIVq1i"
      },
      "execution_count": 240,
      "outputs": []
    },
    {
      "cell_type": "code",
      "source": [
        "for i in range(len(cosine_similarities)):\n",
        "    similar_indices = cosine_similarities[i].argsort()[:-50:-1] \n",
        "    similarities[places['Place_Name'].iloc[i]] = [(cosine_similarities[i][x], places['Place_Name'][x], places['Category'][x], places['Rating'][x], places['City'][x], places['Price'][x], places['Lat'][x], places['Long'][x]) for x in similar_indices][1:]\n"
      ],
      "metadata": {
        "id": "8WUf7YVZVwKS"
      },
      "execution_count": 241,
      "outputs": []
    },
    {
      "cell_type": "code",
      "source": [
        "class ContentBasedRecommender:\n",
        "    def __init__(self, matrix):\n",
        "        self.matrix_similar = matrix\n",
        "\n",
        "    def _print_message(self, place, recom_place):\n",
        "        rec_items = len(recom_place)\n",
        "        \n",
        "        print(f'The {rec_items} recommended places for {place} are:')\n",
        "        for i in range(rec_items):\n",
        "            print(f\"Number {i+1}:\")\n",
        "            print(f\"{recom_place[i][1]} Category {recom_place[i][2]} with {round(recom_place[i][0], 3)} similarity score\") \n",
        "            print(\"--------------------\")\n",
        "        \n",
        "    def recommend(self, recommendation):\n",
        "        place = recommendation['place']\n",
        "        number_places = recommendation['number_places']\n",
        "        recom_place = self.matrix_similar[place][:number_places]\n",
        "        self._print_message(place=place, recom_place=recom_place)"
      ],
      "metadata": {
        "id": "YHjALStvWSb_"
      },
      "execution_count": 242,
      "outputs": []
    },
    {
      "cell_type": "code",
      "source": [
        "recommedations = ContentBasedRecommender(similarities)"
      ],
      "metadata": {
        "id": "SOsk4VegW7Jp"
      },
      "execution_count": 243,
      "outputs": []
    },
    {
      "cell_type": "code",
      "source": [
        "recommendation = {\n",
        "    \"place\": places['Place_Name'].iloc[4],\n",
        "    \"number_places\": 4 \n",
        "}"
      ],
      "metadata": {
        "id": "6P3-384HW_rr"
      },
      "execution_count": 250,
      "outputs": []
    },
    {
      "cell_type": "code",
      "source": [
        "recommedations.recommend(recommendation)"
      ],
      "metadata": {
        "colab": {
          "base_uri": "https://localhost:8080/"
        },
        "id": "c1iX0SFGXMAR",
        "outputId": "fe843f7e-b16e-4c4e-f840-1c0e10b511b6"
      },
      "execution_count": 251,
      "outputs": [
        {
          "output_type": "stream",
          "name": "stdout",
          "text": [
            "The 4 recommended places for Museum Subak are:\n",
            "Number 1:\n",
            "Museum Seni Agung Rai Category Budaya with 0.9909999966621399 similarity score\n",
            "--------------------\n",
            "Number 2:\n",
            "Museum Puri Lukisan Category Budaya with 0.9879999756813049 similarity score\n",
            "--------------------\n",
            "Number 3:\n",
            "Museum Pasifika Category nan with 0.9860000014305115 similarity score\n",
            "--------------------\n",
            "Number 4:\n",
            "Museum Blanco Category Budaya with 0.9769999980926514 similarity score\n",
            "--------------------\n"
          ]
        }
      ]
    },
    {
      "cell_type": "code",
      "source": [
        "import pickle\n",
        "saved_model = pickle.dumps(recommedations)\n",
        "knn_from_pickle = pickle.loads(saved_model)\n"
      ],
      "metadata": {
        "id": "IVreleecabzo"
      },
      "execution_count": 246,
      "outputs": []
    },
    {
      "cell_type": "code",
      "source": [
        "recommendation2 = {\n",
        "    \"place\": places['Place_Name'].iloc[4],\n",
        "    \"number_places\": 4 \n",
        "}"
      ],
      "metadata": {
        "id": "ggTvN80hej3b"
      },
      "execution_count": 252,
      "outputs": []
    },
    {
      "cell_type": "code",
      "source": [
        "knn_from_pickle.recommend(recommendation2)"
      ],
      "metadata": {
        "colab": {
          "base_uri": "https://localhost:8080/"
        },
        "id": "c7709bwxdo9S",
        "outputId": "5ea69ed4-2c01-4592-8362-c607fec67ff8"
      },
      "execution_count": 253,
      "outputs": [
        {
          "output_type": "stream",
          "name": "stdout",
          "text": [
            "The 4 recommended places for Museum Subak are:\n",
            "Number 1:\n",
            "Museum Seni Agung Rai Category Budaya with 0.9909999966621399 similarity score\n",
            "--------------------\n",
            "Number 2:\n",
            "Museum Puri Lukisan Category Budaya with 0.9879999756813049 similarity score\n",
            "--------------------\n",
            "Number 3:\n",
            "Museum Pasifika Category nan with 0.9860000014305115 similarity score\n",
            "--------------------\n",
            "Number 4:\n",
            "Museum Blanco Category Budaya with 0.9769999980926514 similarity score\n",
            "--------------------\n"
          ]
        }
      ]
    },
    {
      "cell_type": "code",
      "source": [
        "with open('model.pkl', 'wb') as files:\n",
        "    pickle.dump(recommedations, files)"
      ],
      "metadata": {
        "id": "09x3uxgdfNSC"
      },
      "execution_count": 249,
      "outputs": []
    }
  ]
}